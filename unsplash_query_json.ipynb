{
 "cells": [
  {
   "cell_type": "code",
   "execution_count": 5,
   "metadata": {},
   "outputs": [
    {
     "data": {
      "text/plain": [
       "['abstract',\n",
       " 'adventure',\n",
       " 'animals',\n",
       " 'animals',\n",
       " 'architecture',\n",
       " 'architecture',\n",
       " 'art',\n",
       " 'art',\n",
       " 'autumn',\n",
       " 'beach',\n",
       " 'beauty',\n",
       " 'books',\n",
       " 'business',\n",
       " 'cars',\n",
       " 'cats',\n",
       " 'cinema',\n",
       " 'city',\n",
       " 'coffee',\n",
       " 'cooking',\n",
       " 'countryside',\n",
       " 'creativity',\n",
       " 'culture',\n",
       " 'desert',\n",
       " 'design',\n",
       " 'dirtbikes',\n",
       " 'dogs',\n",
       " 'economics',\n",
       " 'education',\n",
       " 'environment',\n",
       " 'exploration',\n",
       " 'family',\n",
       " 'fashion',\n",
       " 'fashion',\n",
       " 'finance',\n",
       " 'finance',\n",
       " 'fitness',\n",
       " 'fitness',\n",
       " 'flowers',\n",
       " 'food',\n",
       " 'food',\n",
       " 'forest',\n",
       " 'friendship',\n",
       " 'gardening',\n",
       " 'gardening',\n",
       " 'happiness',\n",
       " 'health',\n",
       " 'health',\n",
       " 'history',\n",
       " 'home',\n",
       " 'inspiration',\n",
       " 'interior design',\n",
       " 'landscape',\n",
       " 'lifestyle',\n",
       " 'literature',\n",
       " 'love',\n",
       " 'love',\n",
       " 'motivation',\n",
       " 'mountain',\n",
       " 'music',\n",
       " 'music',\n",
       " 'nature',\n",
       " 'nature',\n",
       " 'night',\n",
       " 'ocean',\n",
       " 'outdoors',\n",
       " 'peace',\n",
       " 'people',\n",
       " 'pets',\n",
       " 'photography',\n",
       " 'politics',\n",
       " 'reading',\n",
       " 'relaxation',\n",
       " 'science',\n",
       " 'self-improvement',\n",
       " 'sky',\n",
       " 'space',\n",
       " 'sports',\n",
       " 'sports',\n",
       " 'summer',\n",
       " 'sunset',\n",
       " 'technology',\n",
       " 'technology',\n",
       " 'travel',\n",
       " 'travel',\n",
       " 'trucks',\n",
       " 'urban',\n",
       " 'war',\n",
       " 'wellness',\n",
       " 'winter']"
      ]
     },
     "execution_count": 5,
     "metadata": {},
     "output_type": "execute_result"
    }
   ],
   "source": [
    "import json\n",
    "\n",
    "# Define a list of popular search terms or categories\n",
    "confirmed_queries = [\n",
    "    \"abstract\", \"animals\", \"architecture\", \"art\", \"beach\", \"business\", \"cars\", \"city\", \"cooking\", \"culture\", \n",
    "    \"desert\", \"dirtbikes\", \"economics\", \"fashion\", \"finance\", \"fitness\", \"flowers\", \"food\", \"forest\", \"gardening\", \n",
    "    \"health\", \"interior design\", \"landscape\", \"love\", \"mountain\", \"music\", \"nature\", \"night\", \"ocean\", \"people\", \n",
    "    \"politics\", \"sky\", \"space\", \"sports\", \"sunset\", \"technology\", \"travel\", \"trucks\", \"war\"\n",
    "]\n",
    "\n",
    "additional_suggestions = [\n",
    "    \"adventure\", \"animals\", \"architecture\", \"art\", \"autumn\", \"beauty\", \"books\", \"cats\", \"cinema\", \"coffee\", \n",
    "    \"countryside\", \"creativity\", \"design\", \"dogs\", \"education\", \"environment\", \"exploration\", \"family\", \"fashion\", \n",
    "    \"finance\", \"fitness\", \"food\", \"friendship\", \"gardening\", \"happiness\", \"health\", \"history\", \"home\", \"inspiration\", \n",
    "    \"lifestyle\", \"literature\", \"love\", \"motivation\", \"music\", \"nature\", \"outdoors\", \"peace\", \"pets\", \"photography\", \n",
    "    \"reading\", \"relaxation\", \"science\", \"self-improvement\", \"sports\", \"summer\", \"technology\", \"travel\", \"urban\", \n",
    "    \"wellness\", \"winter\"\n",
    "]\n",
    "\n",
    "# Combining the lists\n",
    "query_options = confirmed_queries + additional_suggestions\n",
    "\n",
    "query_options.sort()\n",
    "query_options"
   ]
  },
  {
   "cell_type": "code",
   "execution_count": 6,
   "metadata": {},
   "outputs": [
    {
     "name": "stdout",
     "output_type": "stream",
     "text": [
      "89\n"
     ]
    }
   ],
   "source": [
    "print(len(query_options))\n",
    "query_options = list(set(query_options))"
   ]
  },
  {
   "cell_type": "code",
   "execution_count": 7,
   "metadata": {},
   "outputs": [
    {
     "name": "stdout",
     "output_type": "stream",
     "text": [
      "74\n"
     ]
    }
   ],
   "source": [
    "print(len(query_options))\n",
    "query_options.sort()"
   ]
  },
  {
   "cell_type": "code",
   "execution_count": 8,
   "metadata": {},
   "outputs": [],
   "source": [
    "# save them to my file\n",
    "with open('config/unsplash_queries0.json', 'w') as f:\n",
    "    json.dump(query_options, f)"
   ]
  },
  {
   "cell_type": "code",
   "execution_count": 9,
   "metadata": {},
   "outputs": [
    {
     "name": "stdout",
     "output_type": "stream",
     "text": [
      "The query 'abstract' works.\n",
      "The query 'adventure' works.\n",
      "The query 'animals' works.\n",
      "The query 'architecture' works.\n",
      "The query 'art' works.\n",
      "The query 'autumn' works.\n",
      "The query 'beach' works.\n",
      "The query 'beauty' works.\n",
      "The query 'books' works.\n",
      "The query 'business' works.\n",
      "The query 'cars' works.\n",
      "The query 'cats' works.\n",
      "The query 'cinema' works.\n",
      "The query 'city' works.\n",
      "The query 'coffee' works.\n",
      "The query 'cooking' works.\n",
      "The query 'countryside' works.\n",
      "The query 'creativity' works.\n",
      "The query 'culture' works.\n",
      "The query 'desert' works.\n",
      "The query 'design' works.\n",
      "The query 'dirtbikes' works.\n",
      "The query 'dogs' works.\n",
      "The query 'economics' works.\n",
      "The query 'education' works.\n",
      "The query 'environment' works.\n",
      "The query 'exploration' works.\n",
      "The query 'family' works.\n",
      "The query 'fashion' works.\n",
      "The query 'finance' works.\n",
      "The query 'fitness' works.\n",
      "The query 'flowers' works.\n",
      "The query 'food' works.\n",
      "The query 'forest' works.\n",
      "The query 'friendship' works.\n",
      "The query 'gardening' works.\n",
      "The query 'happiness' works.\n",
      "The query 'health' works.\n",
      "The query 'history' works.\n",
      "The query 'home' works.\n",
      "The query 'inspiration' works.\n",
      "The query 'interior design' works.\n",
      "The query 'landscape' works.\n",
      "The query 'lifestyle' works.\n",
      "The query 'literature' works.\n",
      "The query 'love' works.\n",
      "The query 'motivation' works.\n",
      "The query 'mountain' works.\n",
      "The query 'music' works.\n",
      "The query 'nature' works.\n",
      "The query 'night' does not work. Status code: 403\n",
      "The query 'ocean' does not work. Status code: 403\n",
      "The query 'outdoors' does not work. Status code: 403\n",
      "The query 'peace' does not work. Status code: 403\n",
      "The query 'people' does not work. Status code: 403\n",
      "The query 'pets' does not work. Status code: 403\n",
      "The query 'photography' does not work. Status code: 403\n",
      "The query 'politics' does not work. Status code: 403\n",
      "The query 'reading' does not work. Status code: 403\n",
      "The query 'relaxation' does not work. Status code: 403\n",
      "The query 'science' does not work. Status code: 403\n",
      "The query 'self-improvement' does not work. Status code: 403\n",
      "The query 'sky' does not work. Status code: 403\n",
      "The query 'space' does not work. Status code: 403\n",
      "The query 'sports' does not work. Status code: 403\n",
      "The query 'summer' does not work. Status code: 403\n",
      "The query 'sunset' does not work. Status code: 403\n",
      "The query 'technology' does not work. Status code: 403\n",
      "The query 'travel' does not work. Status code: 403\n",
      "The query 'trucks' does not work. Status code: 403\n",
      "The query 'urban' does not work. Status code: 403\n",
      "The query 'war' does not work. Status code: 403\n",
      "The query 'wellness' does not work. Status code: 403\n",
      "The query 'winter' does not work. Status code: 403\n"
     ]
    }
   ],
   "source": [
    "import os\n",
    "import requests\n",
    "\n",
    "# Your Unsplash API access key\n",
    "access_key = os.getenv(\"UNSPLASH_ACCESS_KEY\")\n",
    "\n",
    "# Number of photos to retrieve per query\n",
    "per_page = 0\n",
    "unsplash_queries = {}\n",
    "\n",
    "# Iterate over the list of queries\n",
    "for query in query_options:\n",
    "    # Make a request to the Unsplash API\n",
    "    # response = requests.get(f\"https://api.unsplash.com/search/photos?query={query}&per_page={per_page}\", headers={\"Authorization\": f\"Client-ID {access_key}\"})\n",
    "    response = requests.get(f\"https://api.unsplash.com/search/photos?query={query}\", headers={\"Authorization\": f\"Client-ID {access_key}\"})\n",
    "\n",
    "    # Check if the request was successful\n",
    "    if response.status_code == 200:\n",
    "        print(f\"The query '{query}' works.\")\n",
    "        unsplash_queries[query] = response.json()[\"total\"]\n",
    "        # #Save the 3 images returned for each query\n",
    "        # for i, photo in enumerate(response.json()['results']):\n",
    "        #     photo_url = photo['urls']['regular']\n",
    "        #     photo_id = photo['id']\n",
    "        #     photo_extension = photo_url.split('.')[-1]\n",
    "        #     photo_filename = f\"images/{query}_{i+1}.jpg\"\n",
    "        #     with open(photo_filename, 'wb') as f:\n",
    "        #         f.write(requests.get(photo_url).content)\n",
    "    else:\n",
    "        print(f\"The query '{query}' does not work. Status code: {response.status_code}\")"
   ]
  },
  {
   "cell_type": "code",
   "execution_count": 10,
   "metadata": {},
   "outputs": [
    {
     "name": "stdout",
     "output_type": "stream",
     "text": [
      "74\n"
     ]
    }
   ],
   "source": [
    "print(len(query_options))"
   ]
  },
  {
   "cell_type": "code",
   "execution_count": 11,
   "metadata": {},
   "outputs": [],
   "source": [
    "# save them to my file\n",
    "with open('config/unsplash_queries.json', 'w') as f:\n",
    "    json.dump(unsplash_queries, f)"
   ]
  },
  {
   "cell_type": "code",
   "execution_count": 12,
   "metadata": {},
   "outputs": [
    {
     "name": "stdout",
     "output_type": "stream",
     "text": [
      "Error: Request for query 'night' returned status code 403\n",
      "Error: Request for query 'ocean' returned status code 403\n",
      "Error: Request for query 'people' returned status code 403\n",
      "Error: Request for query 'politics' returned status code 403\n",
      "Error: Request for query 'sky' returned status code 403\n",
      "Error: Request for query 'space' returned status code 403\n",
      "Error: Request for query 'sports' returned status code 403\n",
      "Error: Request for query 'sunset' returned status code 403\n",
      "Error: Request for query 'technology' returned status code 403\n",
      "Error: Request for query 'travel' returned status code 403\n",
      "Error: Request for query 'trucks' returned status code 403\n",
      "Error: Request for query 'war' returned status code 403\n",
      "{'abstract': 1000, 'animals': 1000, 'architecture': 1000, 'art': 1000, 'beach': 1000, 'business': 1000, 'cars': 1000, 'city': 1000, 'cooking': 855, 'culture': 1000, 'desert': 1000, 'dirtbikes': 37, 'economics': 21, 'fashion': 1000, 'finance': 318, 'fitness': 1001, 'flowers': 1000, 'food': 1000, 'forest': 1000, 'gardening': 806, 'health': 839, 'interior design': 1000, 'landscape': 1000, 'love': 1000, 'mountain': 1000, 'music': 1000, 'nature': 1000}\n"
     ]
    }
   ],
   "source": [
    "import os\n",
    "import requests\n",
    "import json\n",
    "\n",
    "# Define your list of confirmed queries\n",
    "queries = ['abstract', 'animals', 'architecture', 'art', 'beach', 'business', 'cars', 'city', 'cooking', 'culture', 'desert', 'dirtbikes', 'economics', 'fashion', 'finance', 'fitness', 'flowers', 'food', 'forest', 'gardening', 'health', 'interior design', 'landscape', 'love', 'mountain', 'music', 'nature', 'night', 'ocean', 'people', 'politics', 'sky', 'space', 'sports', 'sunset', 'technology', 'travel', 'trucks', 'war']\n",
    "\n",
    "# Number of photos to retrieve per query\n",
    "per_page = 1\n",
    "\n",
    "# Your Unsplash API access key\n",
    "access_key = os.getenv(\"UNSPLASH_ACCESS_KEY\")\n",
    "\n",
    "# Initialize an empty dictionary\n",
    "query_pages = {}\n",
    "\n",
    "# For each query in the list\n",
    "for query in queries:\n",
    "    response = requests.get(f\"https://api.unsplash.com/search/photos?query={query}\", headers={\"Authorization\": f\"Client-ID {access_key}\"})\n",
    "    # response = requests.get(f\"https://api.unsplash.com/search/photos?query={query}&per_page={per_page}\", headers={\"Authorization\": f\"Client-ID {access_key}\"})\n",
    "\n",
    "    # Check the status code of the response\n",
    "    if response.status_code != 200:\n",
    "        print(f\"Error: Request for query '{query}' returned status code {response.status_code}\")\n",
    "        continue\n",
    "\n",
    "    # Check if the response is empty\n",
    "    if not response.text:\n",
    "        print(f\"No results for query '{query}'\")\n",
    "        continue\n",
    "\n",
    "    # Parse the response JSON\n",
    "    data = json.loads(response.text)\n",
    "\n",
    "    # Extract the total_pages field\n",
    "    total_pages = data['total_pages']\n",
    "\n",
    "\n",
    "    query_pages[query] = total_pages\n",
    "\n",
    "# Print the dictionary\n",
    "print(query_pages)"
   ]
  },
  {
   "cell_type": "code",
   "execution_count": 13,
   "metadata": {},
   "outputs": [],
   "source": [
    "# dump the dictionary to a file\n",
    "with open('unsplash_query_pages.json', 'w') as f:\n",
    "    json.dump(query_pages, f)"
   ]
  },
  {
   "cell_type": "code",
   "execution_count": 14,
   "metadata": {},
   "outputs": [
    {
     "name": "stdout",
     "output_type": "stream",
     "text": [
      "Error: Request returned status code 403\n"
     ]
    },
    {
     "ename": "JSONDecodeError",
     "evalue": "Expecting value: line 1 column 1 (char 0)",
     "output_type": "error",
     "traceback": [
      "\u001b[0;31m---------------------------------------------------------------------------\u001b[0m",
      "\u001b[0;31mJSONDecodeError\u001b[0m                           Traceback (most recent call last)",
      "Cell \u001b[0;32mIn[14], line 22\u001b[0m\n\u001b[1;32m     19\u001b[0m     \u001b[38;5;28mprint\u001b[39m(\u001b[38;5;124mf\u001b[39m\u001b[38;5;124m\"\u001b[39m\u001b[38;5;124mNo results for query \u001b[39m\u001b[38;5;124m'\u001b[39m\u001b[38;5;132;01m{\u001b[39;00mquery\u001b[38;5;132;01m}\u001b[39;00m\u001b[38;5;124m'\u001b[39m\u001b[38;5;124m\"\u001b[39m)\n\u001b[1;32m     21\u001b[0m \u001b[38;5;66;03m# Parse the response JSON\u001b[39;00m\n\u001b[0;32m---> 22\u001b[0m data \u001b[38;5;241m=\u001b[39m \u001b[43mjson\u001b[49m\u001b[38;5;241;43m.\u001b[39;49m\u001b[43mloads\u001b[49m\u001b[43m(\u001b[49m\u001b[43mresponse\u001b[49m\u001b[38;5;241;43m.\u001b[39;49m\u001b[43mtext\u001b[49m\u001b[43m)\u001b[49m\n\u001b[1;32m     24\u001b[0m data\n",
      "File \u001b[0;32m/usr/lib/python3.10/json/__init__.py:346\u001b[0m, in \u001b[0;36mloads\u001b[0;34m(s, cls, object_hook, parse_float, parse_int, parse_constant, object_pairs_hook, **kw)\u001b[0m\n\u001b[1;32m    341\u001b[0m     s \u001b[38;5;241m=\u001b[39m s\u001b[38;5;241m.\u001b[39mdecode(detect_encoding(s), \u001b[38;5;124m'\u001b[39m\u001b[38;5;124msurrogatepass\u001b[39m\u001b[38;5;124m'\u001b[39m)\n\u001b[1;32m    343\u001b[0m \u001b[38;5;28;01mif\u001b[39;00m (\u001b[38;5;28mcls\u001b[39m \u001b[38;5;129;01mis\u001b[39;00m \u001b[38;5;28;01mNone\u001b[39;00m \u001b[38;5;129;01mand\u001b[39;00m object_hook \u001b[38;5;129;01mis\u001b[39;00m \u001b[38;5;28;01mNone\u001b[39;00m \u001b[38;5;129;01mand\u001b[39;00m\n\u001b[1;32m    344\u001b[0m         parse_int \u001b[38;5;129;01mis\u001b[39;00m \u001b[38;5;28;01mNone\u001b[39;00m \u001b[38;5;129;01mand\u001b[39;00m parse_float \u001b[38;5;129;01mis\u001b[39;00m \u001b[38;5;28;01mNone\u001b[39;00m \u001b[38;5;129;01mand\u001b[39;00m\n\u001b[1;32m    345\u001b[0m         parse_constant \u001b[38;5;129;01mis\u001b[39;00m \u001b[38;5;28;01mNone\u001b[39;00m \u001b[38;5;129;01mand\u001b[39;00m object_pairs_hook \u001b[38;5;129;01mis\u001b[39;00m \u001b[38;5;28;01mNone\u001b[39;00m \u001b[38;5;129;01mand\u001b[39;00m \u001b[38;5;129;01mnot\u001b[39;00m kw):\n\u001b[0;32m--> 346\u001b[0m     \u001b[38;5;28;01mreturn\u001b[39;00m \u001b[43m_default_decoder\u001b[49m\u001b[38;5;241;43m.\u001b[39;49m\u001b[43mdecode\u001b[49m\u001b[43m(\u001b[49m\u001b[43ms\u001b[49m\u001b[43m)\u001b[49m\n\u001b[1;32m    347\u001b[0m \u001b[38;5;28;01mif\u001b[39;00m \u001b[38;5;28mcls\u001b[39m \u001b[38;5;129;01mis\u001b[39;00m \u001b[38;5;28;01mNone\u001b[39;00m:\n\u001b[1;32m    348\u001b[0m     \u001b[38;5;28mcls\u001b[39m \u001b[38;5;241m=\u001b[39m JSONDecoder\n",
      "File \u001b[0;32m/usr/lib/python3.10/json/decoder.py:337\u001b[0m, in \u001b[0;36mJSONDecoder.decode\u001b[0;34m(self, s, _w)\u001b[0m\n\u001b[1;32m    332\u001b[0m \u001b[38;5;28;01mdef\u001b[39;00m \u001b[38;5;21mdecode\u001b[39m(\u001b[38;5;28mself\u001b[39m, s, _w\u001b[38;5;241m=\u001b[39mWHITESPACE\u001b[38;5;241m.\u001b[39mmatch):\n\u001b[1;32m    333\u001b[0m \u001b[38;5;250m    \u001b[39m\u001b[38;5;124;03m\"\"\"Return the Python representation of ``s`` (a ``str`` instance\u001b[39;00m\n\u001b[1;32m    334\u001b[0m \u001b[38;5;124;03m    containing a JSON document).\u001b[39;00m\n\u001b[1;32m    335\u001b[0m \n\u001b[1;32m    336\u001b[0m \u001b[38;5;124;03m    \"\"\"\u001b[39;00m\n\u001b[0;32m--> 337\u001b[0m     obj, end \u001b[38;5;241m=\u001b[39m \u001b[38;5;28;43mself\u001b[39;49m\u001b[38;5;241;43m.\u001b[39;49m\u001b[43mraw_decode\u001b[49m\u001b[43m(\u001b[49m\u001b[43ms\u001b[49m\u001b[43m,\u001b[49m\u001b[43m \u001b[49m\u001b[43midx\u001b[49m\u001b[38;5;241;43m=\u001b[39;49m\u001b[43m_w\u001b[49m\u001b[43m(\u001b[49m\u001b[43ms\u001b[49m\u001b[43m,\u001b[49m\u001b[43m \u001b[49m\u001b[38;5;241;43m0\u001b[39;49m\u001b[43m)\u001b[49m\u001b[38;5;241;43m.\u001b[39;49m\u001b[43mend\u001b[49m\u001b[43m(\u001b[49m\u001b[43m)\u001b[49m\u001b[43m)\u001b[49m\n\u001b[1;32m    338\u001b[0m     end \u001b[38;5;241m=\u001b[39m _w(s, end)\u001b[38;5;241m.\u001b[39mend()\n\u001b[1;32m    339\u001b[0m     \u001b[38;5;28;01mif\u001b[39;00m end \u001b[38;5;241m!=\u001b[39m \u001b[38;5;28mlen\u001b[39m(s):\n",
      "File \u001b[0;32m/usr/lib/python3.10/json/decoder.py:355\u001b[0m, in \u001b[0;36mJSONDecoder.raw_decode\u001b[0;34m(self, s, idx)\u001b[0m\n\u001b[1;32m    353\u001b[0m     obj, end \u001b[38;5;241m=\u001b[39m \u001b[38;5;28mself\u001b[39m\u001b[38;5;241m.\u001b[39mscan_once(s, idx)\n\u001b[1;32m    354\u001b[0m \u001b[38;5;28;01mexcept\u001b[39;00m \u001b[38;5;167;01mStopIteration\u001b[39;00m \u001b[38;5;28;01mas\u001b[39;00m err:\n\u001b[0;32m--> 355\u001b[0m     \u001b[38;5;28;01mraise\u001b[39;00m JSONDecodeError(\u001b[38;5;124m\"\u001b[39m\u001b[38;5;124mExpecting value\u001b[39m\u001b[38;5;124m\"\u001b[39m, s, err\u001b[38;5;241m.\u001b[39mvalue) \u001b[38;5;28;01mfrom\u001b[39;00m \u001b[38;5;28;01mNone\u001b[39;00m\n\u001b[1;32m    356\u001b[0m \u001b[38;5;28;01mreturn\u001b[39;00m obj, end\n",
      "\u001b[0;31mJSONDecodeError\u001b[0m: Expecting value: line 1 column 1 (char 0)"
     ]
    }
   ],
   "source": [
    "import os\n",
    "import requests\n",
    "import json\n",
    "\n",
    "# Your Unsplash API access key\n",
    "access_key = os.getenv(\"UNSPLASH_ACCESS_KEY\")\n",
    "\n",
    "query = \"nature\"  # replace with your search term\n",
    "response = requests.get(f\"https://api.unsplash.com/search/collections?query={query}\", headers={\"Authorization\": f\"Client-ID {access_key}\"})\n",
    "\n",
    "unsplash_queries = {}\n",
    "\n",
    "# Check the status code of the response\n",
    "if response.status_code != 200:\n",
    "    print(f\"Error: Request returned status code {response.status_code}\")\n",
    "\n",
    "# Check if the response is empty\n",
    "if not response.text:\n",
    "    print(f\"No results for query '{query}'\")\n",
    "\n",
    "# Parse the response JSON\n",
    "data = json.loads(response.text)\n",
    "\n",
    "data"
   ]
  }
 ],
 "metadata": {
  "kernelspec": {
   "display_name": ".venv",
   "language": "python",
   "name": "python3"
  },
  "language_info": {
   "codemirror_mode": {
    "name": "ipython",
    "version": 3
   },
   "file_extension": ".py",
   "mimetype": "text/x-python",
   "name": "python",
   "nbconvert_exporter": "python",
   "pygments_lexer": "ipython3",
   "version": "3.10.12"
  }
 },
 "nbformat": 4,
 "nbformat_minor": 2
}
