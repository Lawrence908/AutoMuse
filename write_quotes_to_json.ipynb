{
 "cells": [
  {
   "cell_type": "code",
   "execution_count": 10,
   "metadata": {},
   "outputs": [],
   "source": [
    "import json\n",
    "\n",
    "def write_quotes_to_json(quotes, file_path):\n",
    "    with open(file_path, 'w') as file:\n",
    "        json.dump(quotes, file, indent=4)"
   ]
  },
  {
   "cell_type": "code",
   "execution_count": 11,
   "metadata": {},
   "outputs": [],
   "source": [
    "def convert_quotes_to_json(file_path):\n",
    "    quotes = []\n",
    "    with open(file_path, 'r') as file:\n",
    "        lines = file.readlines()\n",
    "        for i in range(0, len(lines), 3):\n",
    "            quote = lines[i].strip().strip('\"')\n",
    "            author = lines[i+1].strip().strip('-').strip()\n",
    "            quotes.append({\"quote\": quote, \"author\": author})\n",
    "    return quotes"
   ]
  },
  {
   "cell_type": "code",
   "execution_count": 12,
   "metadata": {},
   "outputs": [],
   "source": [
    "quotes = convert_quotes_to_json('quotes/stoic_quotes.txt')\n",
    "write_quotes_to_json(quotes, 'quotes/stoic_quotes.json')"
   ]
  }
 ],
 "metadata": {
  "kernelspec": {
   "display_name": ".venv",
   "language": "python",
   "name": "python3"
  },
  "language_info": {
   "codemirror_mode": {
    "name": "ipython",
    "version": 3
   },
   "file_extension": ".py",
   "mimetype": "text/x-python",
   "name": "python",
   "nbconvert_exporter": "python",
   "pygments_lexer": "ipython3",
   "version": "3.10.12"
  }
 },
 "nbformat": 4,
 "nbformat_minor": 2
}
