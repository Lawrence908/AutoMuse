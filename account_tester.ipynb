{
 "cells": [
  {
   "cell_type": "code",
   "execution_count": 2,
   "metadata": {},
   "outputs": [],
   "source": [
    "import os\n",
    "import json\n",
    "# from instagrapi import Client\n",
    "# from instagrapi.types import MediaTypes, Usertag, Location, LocationTypes\n",
    "# from instagrapi.exceptions import ClientError"
   ]
  },
  {
   "cell_type": "code",
   "execution_count": 4,
   "metadata": {},
   "outputs": [
    {
     "data": {
      "text/plain": [
       "'the.natural.stoic'"
      ]
     },
     "execution_count": 4,
     "metadata": {},
     "output_type": "execute_result"
    }
   ],
   "source": [
    "with open('accounts/accounts.json') as f:\n",
    "    accounts = json.load(f)\n",
    "    # parse the file to select the account to use\n",
    "    # if you have multiple accounts, you can select which one to use\n",
    "    # by changing the index of the accounts array\n",
    "    ig_username = accounts[2]['username']\n",
    "    ig_password = os.getenc(\"ACCOUNT2_PASSWORD\")\n",
    "\n",
    "ig_username"
   ]
  },
  {
   "cell_type": "code",
   "execution_count": null,
   "metadata": {},
   "outputs": [],
   "source": [
    "ig_password"
   ]
  },
  {
   "cell_type": "code",
   "execution_count": null,
   "metadata": {},
   "outputs": [],
   "source": [
    "cl = Client()\n",
    "cl.login('username', 'password')"
   ]
  }
 ],
 "metadata": {
  "kernelspec": {
   "display_name": ".venv",
   "language": "python",
   "name": "python3"
  },
  "language_info": {
   "codemirror_mode": {
    "name": "ipython",
    "version": 3
   },
   "file_extension": ".py",
   "mimetype": "text/x-python",
   "name": "python",
   "nbconvert_exporter": "python",
   "pygments_lexer": "ipython3",
   "version": "3.10.12"
  }
 },
 "nbformat": 4,
 "nbformat_minor": 2
}
