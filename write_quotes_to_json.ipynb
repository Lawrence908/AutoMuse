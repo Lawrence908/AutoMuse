{
 "cells": [
  {
   "cell_type": "code",
   "execution_count": null,
   "metadata": {},
   "outputs": [],
   "source": [
    "import json\n",
    "\n",
    "def write_quotes_to_json(quotes, file_path):\n",
    "    with open(file_path, 'w') as file:\n",
    "        json.dump(quotes, file, indent=4)"
   ]
  },
  {
   "cell_type": "code",
   "execution_count": null,
   "metadata": {},
   "outputs": [],
   "source": [
    "def convert_quotes_to_json(file_path):\n",
    "    quotes = []\n",
    "    with open(file_path, 'r') as file:\n",
    "        lines = file.readlines()\n",
    "        for i in range(0, len(lines), 3):\n",
    "            quote = lines[i].strip().strip('\"')\n",
    "            author = lines[i+1].strip().strip('-').strip()\n",
    "            quotes.append({\"quote\": quote, \"author\": author})\n",
    "    return quotes"
   ]
  },
  {
   "cell_type": "code",
   "execution_count": null,
   "metadata": {},
   "outputs": [],
   "source": [
    "quotes = convert_quotes_to_json('quotes/stoic_quotes.txt')\n",
    "write_quotes_to_json(quotes, 'quotes/stoic_quotes.json')"
   ]
  }
 ],
 "metadata": {
  "language_info": {
   "name": "python"
  }
 },
 "nbformat": 4,
 "nbformat_minor": 2
}
