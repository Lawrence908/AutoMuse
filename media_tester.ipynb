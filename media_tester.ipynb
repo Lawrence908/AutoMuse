{
 "cells": [
  {
   "cell_type": "code",
   "execution_count": 1,
   "metadata": {},
   "outputs": [],
   "source": [
    "# Import necessary libraries\n",
    "from PIL import Image\n",
    "from quote_fetcher import QuoteFetcher\n",
    "from media_processor import MediaProcessor\n",
    "from media_fetcher import MediaFetcher\n",
    "\n",
    "import matplotlib.pyplot as plt\n",
    "import requests\n",
    "from io import BytesIO\n",
    "\n",
    "from IPython.display import Image\n",
    "\n",
    "import os\n",
    "import glob\n"
   ]
  },
  {
   "cell_type": "code",
   "execution_count": null,
   "metadata": {},
   "outputs": [],
   "source": [
    "fetcher = MediaFetcher(access_key=\"your_access_key\")\n",
    "image_urls = fetcher.fetch_image()"
   ]
  },
  {
   "cell_type": "code",
   "execution_count": null,
   "metadata": {},
   "outputs": [],
   "source": [
    "# from IPython.display import Image\n",
    "\n",
    "processor = MediaProcessor()\n",
    "\n",
    "# Process the image\n",
    "text = \"This is a test\"\n",
    "platform = \"facebook\"\n",
    "processed_image = processor.overlay_text_on_image(Image.open('tests/test_files/test_image_0.jpg'), text, platform)\n",
    "\n",
    "# Save the processed image\n",
    "processed_image.save('tests/test_files/processed_image.jpg')"
   ]
  },
  {
   "cell_type": "code",
   "execution_count": 2,
   "metadata": {},
   "outputs": [],
   "source": [
    "processor = MediaProcessor()\n",
    "\n",
    "image_files = glob.glob('tests/test_files/*instagram.jpg')  # adjust the pattern as needed"
   ]
  },
  {
   "cell_type": "code",
   "execution_count": 3,
   "metadata": {},
   "outputs": [],
   "source": [
    "for i, image_file in enumerate(image_files):\n",
    "    processor.process_media('image', image_file, 'instagram', output_file=f'tests/test_files/processed_image_{i}.jpg', quote_file='quotes/stoic_quotes.json')"
   ]
  },
  {
   "cell_type": "code",
   "execution_count": 5,
   "metadata": {},
   "outputs": [],
   "source": [
    "for i, image_file in enumerate(image_files):\n",
    "    processor.process_media('image', image_file, 'instagram', output_file=f'tests/test_files/processed_image_{i}.jpg', quote_topic='inspirational')"
   ]
  },
  {
   "cell_type": "code",
   "execution_count": 3,
   "metadata": {},
   "outputs": [],
   "source": [
    "for i, image_file in enumerate(image_files):\n",
    "    processor.process_media('image', image_file, 'instagram', output_file=f'tests/test_files/processed_image_{i}.jpg', quote_topic='famous-quotes')"
   ]
  },
  {
   "cell_type": "code",
   "execution_count": 3,
   "metadata": {},
   "outputs": [],
   "source": [
    "for i, image_file in enumerate(image_files):\n",
    "    processor.process_media('image', image_file, 'instagram', output_file=f'tests/test_files/processed_image_{i}.jpg', quote_topic='wisdom')"
   ]
  }
 ],
 "metadata": {
  "kernelspec": {
   "display_name": ".venv",
   "language": "python",
   "name": "python3"
  },
  "language_info": {
   "codemirror_mode": {
    "name": "ipython",
    "version": 3
   },
   "file_extension": ".py",
   "mimetype": "text/x-python",
   "name": "python",
   "nbconvert_exporter": "python",
   "pygments_lexer": "ipython3",
   "version": "3.10.12"
  }
 },
 "nbformat": 4,
 "nbformat_minor": 2
}
