{
 "cells": [
  {
   "cell_type": "code",
   "execution_count": 1,
   "metadata": {},
   "outputs": [],
   "source": [
    "from media_fetcher import MediaFetcher\n",
    "from PIL import Image\n",
    "import glob\n",
    "\n",
    "mediaFetcher = MediaFetcher()\n",
    "\n",
    "image_files = glob.glob('images/*.jpg')"
   ]
  },
  {
   "cell_type": "code",
   "execution_count": 2,
   "metadata": {},
   "outputs": [],
   "source": [
    "# Resize images for instagram\n",
    "for image_file in image_files:\n",
    "    mediaFetcher.resize_image(image_file, platform='instagram_story', filename=image_file.replace('images/', 'images/instagram_story/'))"
   ]
  }
 ],
 "metadata": {
  "kernelspec": {
   "display_name": ".venv",
   "language": "python",
   "name": "python3"
  },
  "language_info": {
   "codemirror_mode": {
    "name": "ipython",
    "version": 3
   },
   "file_extension": ".py",
   "mimetype": "text/x-python",
   "name": "python",
   "nbconvert_exporter": "python",
   "pygments_lexer": "ipython3",
   "version": "3.10.12"
  }
 },
 "nbformat": 4,
 "nbformat_minor": 2
}
