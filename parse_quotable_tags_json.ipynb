{
 "cells": [
  {
   "cell_type": "code",
   "execution_count": 2,
   "metadata": {},
   "outputs": [],
   "source": [
    "import json\n",
    "\n",
    "# Open and load the JSON file\n",
    "with open('config/quotable_tags_source.json') as f:\n",
    "    data = json.load(f)\n",
    "\n",
    "# Create a dictionary where the key is the slug and the value is the quoteCount\n",
    "tags = {item['slug']: item['quoteCount'] for item in data}\n",
    "\n",
    "# Save the dictionary to a new JSON file\n",
    "with open('config/quotable_tags.json', 'w') as f:\n",
    "    json.dump(tags, f, indent=4)\n"
   ]
  }
 ],
 "metadata": {
  "kernelspec": {
   "display_name": ".venv",
   "language": "python",
   "name": "python3"
  },
  "language_info": {
   "codemirror_mode": {
    "name": "ipython",
    "version": 3
   },
   "file_extension": ".py",
   "mimetype": "text/x-python",
   "name": "python",
   "nbconvert_exporter": "python",
   "pygments_lexer": "ipython3",
   "version": "3.10.12"
  }
 },
 "nbformat": 4,
 "nbformat_minor": 2
}
