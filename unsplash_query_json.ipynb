{
 "cells": [
  {
   "cell_type": "code",
   "execution_count": 19,
   "metadata": {},
   "outputs": [
    {
     "data": {
      "text/plain": [
       "['abstract',\n",
       " 'animals',\n",
       " 'architecture',\n",
       " 'art',\n",
       " 'beach',\n",
       " 'business',\n",
       " 'cars',\n",
       " 'city',\n",
       " 'cooking',\n",
       " 'culture',\n",
       " 'desert',\n",
       " 'dirtbikes',\n",
       " 'economics',\n",
       " 'fashion',\n",
       " 'finance',\n",
       " 'fitness',\n",
       " 'flowers',\n",
       " 'food',\n",
       " 'forest',\n",
       " 'gardening',\n",
       " 'health',\n",
       " 'interior design',\n",
       " 'landscape',\n",
       " 'love',\n",
       " 'mountain',\n",
       " 'music',\n",
       " 'nature',\n",
       " 'night',\n",
       " 'ocean',\n",
       " 'people',\n",
       " 'politics',\n",
       " 'sky',\n",
       " 'space',\n",
       " 'sports',\n",
       " 'sunset',\n",
       " 'technology',\n",
       " 'travel',\n",
       " 'trucks',\n",
       " 'war']"
      ]
     },
     "execution_count": 19,
     "metadata": {},
     "output_type": "execute_result"
    }
   ],
   "source": [
    "import json\n",
    "\n",
    "# Define a list of popular search terms or categories\n",
    "query_options = ['abstract', 'animals', 'architecture', 'art', 'beach', 'business', 'cars', 'city', 'cooking', 'culture', 'desert', 'dirtbikes', 'economics', 'fashion', 'finance', 'fitness', 'flowers', 'food', 'forest', 'gardening', 'health', 'interior design', 'landscape', 'love', 'mountain', 'music', 'nature', 'night', 'ocean', 'people', 'politics', 'sky', 'space', 'sports', 'sunset', 'technology', 'travel', 'trucks', 'war']\n",
    "query_options"
   ]
  },
  {
   "cell_type": "code",
   "execution_count": 18,
   "metadata": {},
   "outputs": [],
   "source": [
    "# save them to my file\n",
    "with open('unsplash_queries.json', 'w') as f:\n",
    "    json.dump(query_options, f)"
   ]
  },
  {
   "cell_type": "code",
   "execution_count": 21,
   "metadata": {},
   "outputs": [
    {
     "name": "stdout",
     "output_type": "stream",
     "text": [
      "The query 'abstract' works.\n",
      "The query 'animals' works.\n",
      "The query 'architecture' works.\n",
      "The query 'art' works.\n",
      "The query 'beach' works.\n",
      "The query 'business' works.\n",
      "The query 'cars' works.\n",
      "The query 'city' works.\n",
      "The query 'cooking' works.\n",
      "The query 'culture' works.\n",
      "The query 'desert' works.\n",
      "The query 'dirtbikes' works.\n",
      "The query 'economics' works.\n",
      "The query 'fashion' works.\n",
      "The query 'finance' works.\n",
      "The query 'fitness' works.\n",
      "The query 'flowers' works.\n",
      "The query 'food' works.\n",
      "The query 'forest' works.\n",
      "The query 'gardening' works.\n",
      "The query 'health' works.\n",
      "The query 'interior design' works.\n",
      "The query 'landscape' works.\n",
      "The query 'love' works.\n",
      "The query 'mountain' works.\n",
      "The query 'music' works.\n",
      "The query 'nature' works.\n",
      "The query 'night' works.\n",
      "The query 'ocean' works.\n",
      "The query 'people' works.\n",
      "The query 'politics' works.\n",
      "The query 'sky' works.\n",
      "The query 'space' works.\n",
      "The query 'sports' works.\n",
      "The query 'sunset' works.\n",
      "The query 'technology' works.\n",
      "The query 'travel' works.\n",
      "The query 'trucks' works.\n",
      "The query 'war' works.\n"
     ]
    }
   ],
   "source": [
    "import os\n",
    "import requests\n",
    "\n",
    "# Your Unsplash API access key\n",
    "access_key = os.getenv(\"UNSPLASH_ACCESS_KEY\")\n",
    "\n",
    "# Number of photos to retrieve per query\n",
    "per_page = 3\n",
    "\n",
    "# Iterate over the list of queries\n",
    "for query in query_options:\n",
    "    # Make a request to the Unsplash API\n",
    "    response = requests.get(f\"https://api.unsplash.com/search/photos?query={query}&per_page={per_page}\", headers={\"Authorization\": f\"Client-ID {access_key}\"})\n",
    "\n",
    "    # Check if the request was successful\n",
    "    if response.status_code == 200:\n",
    "        print(f\"The query '{query}' works.\")\n",
    "        #Save the 3 images returned for each query\n",
    "        for i, photo in enumerate(response.json()['results']):\n",
    "            photo_url = photo['urls']['regular']\n",
    "            photo_id = photo['id']\n",
    "            photo_extension = photo_url.split('.')[-1]\n",
    "            photo_filename = f\"images/{query}_{i+1}.jpg\"\n",
    "            with open(photo_filename, 'wb') as f:\n",
    "                f.write(requests.get(photo_url).content)\n",
    "    else:\n",
    "        print(f\"The query '{query}' does not work. Status code: {response.status_code}\")"
   ]
  }
 ],
 "metadata": {
  "kernelspec": {
   "display_name": ".venv",
   "language": "python",
   "name": "python3"
  },
  "language_info": {
   "codemirror_mode": {
    "name": "ipython",
    "version": 3
   },
   "file_extension": ".py",
   "mimetype": "text/x-python",
   "name": "python",
   "nbconvert_exporter": "python",
   "pygments_lexer": "ipython3",
   "version": "3.10.12"
  }
 },
 "nbformat": 4,
 "nbformat_minor": 2
}
